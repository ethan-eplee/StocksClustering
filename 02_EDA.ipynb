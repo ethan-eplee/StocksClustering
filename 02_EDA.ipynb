{
 "cells": [
  {
   "cell_type": "markdown",
   "metadata": {},
   "source": [
    "<a id='1.1'></a>\n",
    "## 2.1. Loading the python packages"
   ]
  },
  {
   "cell_type": "code",
   "execution_count": 2,
   "metadata": {
    "_cell_guid": "5d8fee34-f454-2642-8b06-ed719f0317e1",
    "scrolled": true
   },
   "outputs": [
    {
     "name": "stdout",
     "output_type": "stream",
     "text": [
      "time: 0 ns (started: 2022-10-16 14:24:00 +08:00)\n"
     ]
    }
   ],
   "source": [
    "# Load libraries\n",
    "import numpy as np\n",
    "import pandas as pd\n",
    "import matplotlib.pyplot as plt\n",
    "from pandas import read_csv, set_option\n",
    "from pandas.plotting import scatter_matrix\n",
    "import seaborn as sns\n",
    "from sklearn.preprocessing import StandardScaler\n",
    "import pandas_datareader as dr\n",
    "import pickle\n",
    "\n",
    "# Import Model Packages \n",
    "from sklearn.cluster import KMeans, AgglomerativeClustering, AffinityPropagation, DBSCAN\n",
    "from scipy.cluster.hierarchy import fcluster\n",
    "from scipy.cluster.hierarchy import dendrogram, linkage, cophenet\n",
    "from scipy.spatial.distance import pdist\n",
    "from sklearn.metrics import adjusted_mutual_info_score\n",
    "from sklearn import cluster, covariance, manifold\n",
    "from statsmodels.tsa.stattools import coint\n",
    "\n",
    "# Other Helper Packages and functions\n",
    "import matplotlib.ticker as ticker\n",
    "from itertools import cycle\n",
    "\n",
    "import yahoo_fin.stock_info as si\n",
    "import yfinance as yf\n",
    "\n",
    "from datetime import datetime\n",
    "import warnings\n",
    "warnings.filterwarnings(\"ignore\")\n",
    "\n",
    "%matplotlib inline\n",
    "%load_ext autotime"
   ]
  },
  {
   "cell_type": "markdown",
   "metadata": {},
   "source": [
    "<a id='1.2'></a>\n",
    "## 2.2. Loading the Data"
   ]
  },
  {
   "cell_type": "code",
   "execution_count": 6,
   "metadata": {},
   "outputs": [
    {
     "name": "stdout",
     "output_type": "stream",
     "text": [
      "time: 16 ms (started: 2022-10-16 14:24:42 +08:00)\n"
     ]
    }
   ],
   "source": [
    "# The dataset was obtained from Kaggle and imported\n",
    "dataset = pickle.load(open('./data/01_pricedate_2015_2019.pkl', 'rb'))\n",
    "company_info = pd.read_csv('./data/ratios.csv')"
   ]
  },
  {
   "cell_type": "code",
   "execution_count": 47,
   "metadata": {
    "_cell_guid": "52f85dc2-0f91-3c50-400e-ddc38bea966b"
   },
   "outputs": [
    {
     "data": {
      "text/plain": [
       "(1256, 487)"
      ]
     },
     "execution_count": 47,
     "metadata": {},
     "output_type": "execute_result"
    },
    {
     "name": "stdout",
     "output_type": "stream",
     "text": [
      "time: 0 ns (started: 2022-10-16 13:39:38 +08:00)\n"
     ]
    }
   ],
   "source": [
    "# Shape of dataset\n",
    "dataset.shape"
   ]
  },
  {
   "cell_type": "code",
   "execution_count": 48,
   "metadata": {},
   "outputs": [
    {
     "data": {
      "text/html": [
       "<div>\n",
       "<style scoped>\n",
       "    .dataframe tbody tr th:only-of-type {\n",
       "        vertical-align: middle;\n",
       "    }\n",
       "\n",
       "    .dataframe tbody tr th {\n",
       "        vertical-align: top;\n",
       "    }\n",
       "\n",
       "    .dataframe thead th {\n",
       "        text-align: right;\n",
       "    }\n",
       "</style>\n",
       "<table border=\"1\" class=\"dataframe\">\n",
       "  <thead>\n",
       "    <tr style=\"text-align: right;\">\n",
       "      <th>Symbol</th>\n",
       "      <th>A</th>\n",
       "      <th>AAL</th>\n",
       "      <th>AAP</th>\n",
       "      <th>AAPL</th>\n",
       "      <th>ABBV</th>\n",
       "      <th>ABC</th>\n",
       "      <th>ABMD</th>\n",
       "      <th>ABT</th>\n",
       "      <th>ACN</th>\n",
       "      <th>ADBE</th>\n",
       "      <th>...</th>\n",
       "      <th>WYNN</th>\n",
       "      <th>XEL</th>\n",
       "      <th>XOM</th>\n",
       "      <th>XRAY</th>\n",
       "      <th>XYL</th>\n",
       "      <th>YUM</th>\n",
       "      <th>ZBH</th>\n",
       "      <th>ZBRA</th>\n",
       "      <th>ZION</th>\n",
       "      <th>ZTS</th>\n",
       "    </tr>\n",
       "    <tr>\n",
       "      <th>Date</th>\n",
       "      <th></th>\n",
       "      <th></th>\n",
       "      <th></th>\n",
       "      <th></th>\n",
       "      <th></th>\n",
       "      <th></th>\n",
       "      <th></th>\n",
       "      <th></th>\n",
       "      <th></th>\n",
       "      <th></th>\n",
       "      <th></th>\n",
       "      <th></th>\n",
       "      <th></th>\n",
       "      <th></th>\n",
       "      <th></th>\n",
       "      <th></th>\n",
       "      <th></th>\n",
       "      <th></th>\n",
       "      <th></th>\n",
       "      <th></th>\n",
       "      <th></th>\n",
       "    </tr>\n",
       "  </thead>\n",
       "  <tbody>\n",
       "    <tr>\n",
       "      <th>2015-01-05</th>\n",
       "      <td>37.420</td>\n",
       "      <td>51.051</td>\n",
       "      <td>151.337</td>\n",
       "      <td>24.120</td>\n",
       "      <td>46.711</td>\n",
       "      <td>79.662</td>\n",
       "      <td>37.07</td>\n",
       "      <td>39.125</td>\n",
       "      <td>76.427</td>\n",
       "      <td>71.98</td>\n",
       "      <td>...</td>\n",
       "      <td>127.431</td>\n",
       "      <td>29.178</td>\n",
       "      <td>64.219</td>\n",
       "      <td>49.260</td>\n",
       "      <td>32.530</td>\n",
       "      <td>44.445</td>\n",
       "      <td>107.126</td>\n",
       "      <td>76.34</td>\n",
       "      <td>24.042</td>\n",
       "      <td>41.036</td>\n",
       "    </tr>\n",
       "    <tr>\n",
       "      <th>2015-01-06</th>\n",
       "      <td>36.837</td>\n",
       "      <td>50.256</td>\n",
       "      <td>151.230</td>\n",
       "      <td>24.122</td>\n",
       "      <td>46.480</td>\n",
       "      <td>80.097</td>\n",
       "      <td>36.13</td>\n",
       "      <td>38.681</td>\n",
       "      <td>75.875</td>\n",
       "      <td>70.53</td>\n",
       "      <td>...</td>\n",
       "      <td>124.712</td>\n",
       "      <td>29.334</td>\n",
       "      <td>63.878</td>\n",
       "      <td>48.649</td>\n",
       "      <td>32.339</td>\n",
       "      <td>43.900</td>\n",
       "      <td>106.218</td>\n",
       "      <td>75.79</td>\n",
       "      <td>23.124</td>\n",
       "      <td>40.636</td>\n",
       "    </tr>\n",
       "    <tr>\n",
       "      <th>2015-01-07</th>\n",
       "      <td>37.326</td>\n",
       "      <td>50.227</td>\n",
       "      <td>154.480</td>\n",
       "      <td>24.461</td>\n",
       "      <td>48.358</td>\n",
       "      <td>81.696</td>\n",
       "      <td>37.28</td>\n",
       "      <td>38.994</td>\n",
       "      <td>77.468</td>\n",
       "      <td>71.11</td>\n",
       "      <td>...</td>\n",
       "      <td>128.375</td>\n",
       "      <td>29.587</td>\n",
       "      <td>64.525</td>\n",
       "      <td>49.909</td>\n",
       "      <td>32.594</td>\n",
       "      <td>45.354</td>\n",
       "      <td>108.859</td>\n",
       "      <td>77.72</td>\n",
       "      <td>23.345</td>\n",
       "      <td>41.474</td>\n",
       "    </tr>\n",
       "    <tr>\n",
       "      <th>2015-01-08</th>\n",
       "      <td>38.445</td>\n",
       "      <td>50.843</td>\n",
       "      <td>155.834</td>\n",
       "      <td>25.400</td>\n",
       "      <td>48.864</td>\n",
       "      <td>81.882</td>\n",
       "      <td>38.96</td>\n",
       "      <td>39.796</td>\n",
       "      <td>78.649</td>\n",
       "      <td>72.92</td>\n",
       "      <td>...</td>\n",
       "      <td>129.919</td>\n",
       "      <td>29.930</td>\n",
       "      <td>65.599</td>\n",
       "      <td>51.142</td>\n",
       "      <td>32.840</td>\n",
       "      <td>46.144</td>\n",
       "      <td>110.015</td>\n",
       "      <td>79.38</td>\n",
       "      <td>23.671</td>\n",
       "      <td>42.113</td>\n",
       "    </tr>\n",
       "    <tr>\n",
       "      <th>2015-01-09</th>\n",
       "      <td>38.163</td>\n",
       "      <td>49.289</td>\n",
       "      <td>155.041</td>\n",
       "      <td>25.428</td>\n",
       "      <td>47.527</td>\n",
       "      <td>82.602</td>\n",
       "      <td>38.41</td>\n",
       "      <td>39.378</td>\n",
       "      <td>78.562</td>\n",
       "      <td>71.84</td>\n",
       "      <td>...</td>\n",
       "      <td>131.543</td>\n",
       "      <td>29.562</td>\n",
       "      <td>65.507</td>\n",
       "      <td>50.397</td>\n",
       "      <td>32.220</td>\n",
       "      <td>46.063</td>\n",
       "      <td>108.428</td>\n",
       "      <td>80.54</td>\n",
       "      <td>23.009</td>\n",
       "      <td>42.180</td>\n",
       "    </tr>\n",
       "  </tbody>\n",
       "</table>\n",
       "<p>5 rows × 487 columns</p>\n",
       "</div>"
      ],
      "text/plain": [
       "Symbol           A     AAL      AAP    AAPL    ABBV     ABC   ABMD     ABT     ACN   ADBE  ...  \\\n",
       "Date                                                                                       ...   \n",
       "2015-01-05  37.420  51.051  151.337  24.120  46.711  79.662  37.07  39.125  76.427  71.98  ...   \n",
       "2015-01-06  36.837  50.256  151.230  24.122  46.480  80.097  36.13  38.681  75.875  70.53  ...   \n",
       "2015-01-07  37.326  50.227  154.480  24.461  48.358  81.696  37.28  38.994  77.468  71.11  ...   \n",
       "2015-01-08  38.445  50.843  155.834  25.400  48.864  81.882  38.96  39.796  78.649  72.92  ...   \n",
       "2015-01-09  38.163  49.289  155.041  25.428  47.527  82.602  38.41  39.378  78.562  71.84  ...   \n",
       "\n",
       "Symbol         WYNN     XEL     XOM    XRAY     XYL     YUM      ZBH   ZBRA    ZION     ZTS  \n",
       "Date                                                                                         \n",
       "2015-01-05  127.431  29.178  64.219  49.260  32.530  44.445  107.126  76.34  24.042  41.036  \n",
       "2015-01-06  124.712  29.334  63.878  48.649  32.339  43.900  106.218  75.79  23.124  40.636  \n",
       "2015-01-07  128.375  29.587  64.525  49.909  32.594  45.354  108.859  77.72  23.345  41.474  \n",
       "2015-01-08  129.919  29.930  65.599  51.142  32.840  46.144  110.015  79.38  23.671  42.113  \n",
       "2015-01-09  131.543  29.562  65.507  50.397  32.220  46.063  108.428  80.54  23.009  42.180  \n",
       "\n",
       "[5 rows x 487 columns]"
      ]
     },
     "execution_count": 48,
     "metadata": {},
     "output_type": "execute_result"
    },
    {
     "name": "stdout",
     "output_type": "stream",
     "text": [
      "time: 16 ms (started: 2022-10-16 13:39:39 +08:00)\n"
     ]
    }
   ],
   "source": [
    "# peek at data\n",
    "set_option('display.width', 100)\n",
    "dataset.head(5)"
   ]
  },
  {
   "cell_type": "code",
   "execution_count": 49,
   "metadata": {
    "_cell_guid": "7bffeec0-5bbc-fffb-18f2-3da56b862ca3"
   },
   "outputs": [
    {
     "data": {
      "text/html": [
       "<div>\n",
       "<style scoped>\n",
       "    .dataframe tbody tr th:only-of-type {\n",
       "        vertical-align: middle;\n",
       "    }\n",
       "\n",
       "    .dataframe tbody tr th {\n",
       "        vertical-align: top;\n",
       "    }\n",
       "\n",
       "    .dataframe thead th {\n",
       "        text-align: right;\n",
       "    }\n",
       "</style>\n",
       "<table border=\"1\" class=\"dataframe\">\n",
       "  <thead>\n",
       "    <tr style=\"text-align: right;\">\n",
       "      <th>Symbol</th>\n",
       "      <th>A</th>\n",
       "      <th>AAL</th>\n",
       "      <th>AAP</th>\n",
       "      <th>AAPL</th>\n",
       "      <th>ABBV</th>\n",
       "      <th>ABC</th>\n",
       "      <th>ABMD</th>\n",
       "      <th>ABT</th>\n",
       "      <th>ACN</th>\n",
       "      <th>ADBE</th>\n",
       "      <th>...</th>\n",
       "      <th>WYNN</th>\n",
       "      <th>XEL</th>\n",
       "      <th>XOM</th>\n",
       "      <th>XRAY</th>\n",
       "      <th>XYL</th>\n",
       "      <th>YUM</th>\n",
       "      <th>ZBH</th>\n",
       "      <th>ZBRA</th>\n",
       "      <th>ZION</th>\n",
       "      <th>ZTS</th>\n",
       "    </tr>\n",
       "  </thead>\n",
       "  <tbody>\n",
       "    <tr>\n",
       "      <th>count</th>\n",
       "      <td>1256.000</td>\n",
       "      <td>1256.000</td>\n",
       "      <td>1256.000</td>\n",
       "      <td>1256.000</td>\n",
       "      <td>1256.000</td>\n",
       "      <td>1256.000</td>\n",
       "      <td>1256.000</td>\n",
       "      <td>1256.000</td>\n",
       "      <td>1256.000</td>\n",
       "      <td>1256.000</td>\n",
       "      <td>...</td>\n",
       "      <td>1256.000</td>\n",
       "      <td>1256.000</td>\n",
       "      <td>1256.000</td>\n",
       "      <td>1256.000</td>\n",
       "      <td>1256.000</td>\n",
       "      <td>1256.000</td>\n",
       "      <td>1256.000</td>\n",
       "      <td>1256.000</td>\n",
       "      <td>1256.000</td>\n",
       "      <td>1256.000</td>\n",
       "    </tr>\n",
       "    <tr>\n",
       "      <th>mean</th>\n",
       "      <td>55.006</td>\n",
       "      <td>39.638</td>\n",
       "      <td>143.622</td>\n",
       "      <td>36.906</td>\n",
       "      <td>59.805</td>\n",
       "      <td>82.091</td>\n",
       "      <td>182.990</td>\n",
       "      <td>52.047</td>\n",
       "      <td>127.330</td>\n",
       "      <td>167.241</td>\n",
       "      <td>...</td>\n",
       "      <td>111.760</td>\n",
       "      <td>40.805</td>\n",
       "      <td>62.954</td>\n",
       "      <td>53.025</td>\n",
       "      <td>54.490</td>\n",
       "      <td>70.015</td>\n",
       "      <td>109.944</td>\n",
       "      <td>122.043</td>\n",
       "      <td>36.427</td>\n",
       "      <td>68.409</td>\n",
       "    </tr>\n",
       "    <tr>\n",
       "      <th>std</th>\n",
       "      <td>14.512</td>\n",
       "      <td>7.182</td>\n",
       "      <td>23.422</td>\n",
       "      <td>11.335</td>\n",
       "      <td>14.624</td>\n",
       "      <td>8.115</td>\n",
       "      <td>107.157</td>\n",
       "      <td>15.550</td>\n",
       "      <td>33.608</td>\n",
       "      <td>79.427</td>\n",
       "      <td>...</td>\n",
       "      <td>30.902</td>\n",
       "      <td>9.438</td>\n",
       "      <td>3.668</td>\n",
       "      <td>7.393</td>\n",
       "      <td>16.691</td>\n",
       "      <td>18.610</td>\n",
       "      <td>11.452</td>\n",
       "      <td>53.268</td>\n",
       "      <td>9.894</td>\n",
       "      <td>25.690</td>\n",
       "    </tr>\n",
       "    <tr>\n",
       "      <th>min</th>\n",
       "      <td>31.622</td>\n",
       "      <td>24.281</td>\n",
       "      <td>77.127</td>\n",
       "      <td>21.099</td>\n",
       "      <td>36.022</td>\n",
       "      <td>62.801</td>\n",
       "      <td>36.130</td>\n",
       "      <td>32.535</td>\n",
       "      <td>73.530</td>\n",
       "      <td>69.990</td>\n",
       "      <td>...</td>\n",
       "      <td>46.518</td>\n",
       "      <td>26.588</td>\n",
       "      <td>50.110</td>\n",
       "      <td>33.568</td>\n",
       "      <td>27.965</td>\n",
       "      <td>42.096</td>\n",
       "      <td>84.815</td>\n",
       "      <td>46.930</td>\n",
       "      <td>17.704</td>\n",
       "      <td>37.846</td>\n",
       "    </tr>\n",
       "    <tr>\n",
       "      <th>25%</th>\n",
       "      <td>39.922</td>\n",
       "      <td>33.877</td>\n",
       "      <td>136.224</td>\n",
       "      <td>26.777</td>\n",
       "      <td>47.497</td>\n",
       "      <td>76.607</td>\n",
       "      <td>97.265</td>\n",
       "      <td>39.348</td>\n",
       "      <td>100.986</td>\n",
       "      <td>93.993</td>\n",
       "      <td>...</td>\n",
       "      <td>89.535</td>\n",
       "      <td>34.143</td>\n",
       "      <td>60.485</td>\n",
       "      <td>49.051</td>\n",
       "      <td>38.141</td>\n",
       "      <td>55.215</td>\n",
       "      <td>103.562</td>\n",
       "      <td>80.683</td>\n",
       "      <td>25.753</td>\n",
       "      <td>46.105</td>\n",
       "    </tr>\n",
       "    <tr>\n",
       "      <th>50%</th>\n",
       "      <td>57.711</td>\n",
       "      <td>39.597</td>\n",
       "      <td>149.835</td>\n",
       "      <td>36.048</td>\n",
       "      <td>56.181</td>\n",
       "      <td>81.444</td>\n",
       "      <td>142.980</td>\n",
       "      <td>45.068</td>\n",
       "      <td>117.823</td>\n",
       "      <td>143.605</td>\n",
       "      <td>...</td>\n",
       "      <td>111.691</td>\n",
       "      <td>39.919</td>\n",
       "      <td>63.094</td>\n",
       "      <td>54.760</td>\n",
       "      <td>51.807</td>\n",
       "      <td>68.095</td>\n",
       "      <td>109.340</td>\n",
       "      <td>105.910</td>\n",
       "      <td>38.932</td>\n",
       "      <td>60.530</td>\n",
       "    </tr>\n",
       "    <tr>\n",
       "      <th>75%</th>\n",
       "      <td>66.881</td>\n",
       "      <td>45.370</td>\n",
       "      <td>158.723</td>\n",
       "      <td>45.070</td>\n",
       "      <td>73.447</td>\n",
       "      <td>85.989</td>\n",
       "      <td>265.538</td>\n",
       "      <td>64.727</td>\n",
       "      <td>152.798</td>\n",
       "      <td>249.120</td>\n",
       "      <td>...</td>\n",
       "      <td>131.382</td>\n",
       "      <td>45.372</td>\n",
       "      <td>65.577</td>\n",
       "      <td>58.498</td>\n",
       "      <td>71.192</td>\n",
       "      <td>82.795</td>\n",
       "      <td>116.975</td>\n",
       "      <td>163.580</td>\n",
       "      <td>45.054</td>\n",
       "      <td>86.562</td>\n",
       "    </tr>\n",
       "    <tr>\n",
       "      <th>max</th>\n",
       "      <td>84.129</td>\n",
       "      <td>56.989</td>\n",
       "      <td>194.023</td>\n",
       "      <td>72.026</td>\n",
       "      <td>99.695</td>\n",
       "      <td>102.871</td>\n",
       "      <td>449.750</td>\n",
       "      <td>85.388</td>\n",
       "      <td>205.783</td>\n",
       "      <td>331.200</td>\n",
       "      <td>...</td>\n",
       "      <td>190.356</td>\n",
       "      <td>62.595</td>\n",
       "      <td>71.204</td>\n",
       "      <td>66.581</td>\n",
       "      <td>82.366</td>\n",
       "      <td>114.009</td>\n",
       "      <td>144.435</td>\n",
       "      <td>258.280</td>\n",
       "      <td>53.566</td>\n",
       "      <td>131.554</td>\n",
       "    </tr>\n",
       "  </tbody>\n",
       "</table>\n",
       "<p>8 rows × 487 columns</p>\n",
       "</div>"
      ],
      "text/plain": [
       "Symbol         A       AAL       AAP      AAPL      ABBV       ABC      ABMD       ABT       ACN  \\\n",
       "count   1256.000  1256.000  1256.000  1256.000  1256.000  1256.000  1256.000  1256.000  1256.000   \n",
       "mean      55.006    39.638   143.622    36.906    59.805    82.091   182.990    52.047   127.330   \n",
       "std       14.512     7.182    23.422    11.335    14.624     8.115   107.157    15.550    33.608   \n",
       "min       31.622    24.281    77.127    21.099    36.022    62.801    36.130    32.535    73.530   \n",
       "25%       39.922    33.877   136.224    26.777    47.497    76.607    97.265    39.348   100.986   \n",
       "50%       57.711    39.597   149.835    36.048    56.181    81.444   142.980    45.068   117.823   \n",
       "75%       66.881    45.370   158.723    45.070    73.447    85.989   265.538    64.727   152.798   \n",
       "max       84.129    56.989   194.023    72.026    99.695   102.871   449.750    85.388   205.783   \n",
       "\n",
       "Symbol      ADBE  ...      WYNN       XEL       XOM      XRAY       XYL       YUM       ZBH  \\\n",
       "count   1256.000  ...  1256.000  1256.000  1256.000  1256.000  1256.000  1256.000  1256.000   \n",
       "mean     167.241  ...   111.760    40.805    62.954    53.025    54.490    70.015   109.944   \n",
       "std       79.427  ...    30.902     9.438     3.668     7.393    16.691    18.610    11.452   \n",
       "min       69.990  ...    46.518    26.588    50.110    33.568    27.965    42.096    84.815   \n",
       "25%       93.993  ...    89.535    34.143    60.485    49.051    38.141    55.215   103.562   \n",
       "50%      143.605  ...   111.691    39.919    63.094    54.760    51.807    68.095   109.340   \n",
       "75%      249.120  ...   131.382    45.372    65.577    58.498    71.192    82.795   116.975   \n",
       "max      331.200  ...   190.356    62.595    71.204    66.581    82.366   114.009   144.435   \n",
       "\n",
       "Symbol      ZBRA      ZION       ZTS  \n",
       "count   1256.000  1256.000  1256.000  \n",
       "mean     122.043    36.427    68.409  \n",
       "std       53.268     9.894    25.690  \n",
       "min       46.930    17.704    37.846  \n",
       "25%       80.683    25.753    46.105  \n",
       "50%      105.910    38.932    60.530  \n",
       "75%      163.580    45.054    86.562  \n",
       "max      258.280    53.566   131.554  \n",
       "\n",
       "[8 rows x 487 columns]"
      ]
     },
     "execution_count": 49,
     "metadata": {},
     "output_type": "execute_result"
    },
    {
     "name": "stdout",
     "output_type": "stream",
     "text": [
      "time: 453 ms (started: 2022-10-16 13:39:40 +08:00)\n"
     ]
    }
   ],
   "source": [
    "# describe data\n",
    "set_option('precision', 3)\n",
    "dataset.describe()"
   ]
  },
  {
   "cell_type": "code",
   "execution_count": 7,
   "metadata": {},
   "outputs": [
    {
     "name": "stdout",
     "output_type": "stream",
     "text": [
      "<class 'pandas.core.frame.DataFrame'>\n",
      "RangeIndex: 505 entries, 0 to 504\n",
      "Data columns (total 13 columns):\n",
      " #   Column    Non-Null Count  Dtype  \n",
      "---  ------    --------------  -----  \n",
      " 0   Symbol    505 non-null    object \n",
      " 1   Name      505 non-null    object \n",
      " 2   Sector    505 non-null    object \n",
      " 3   Price     505 non-null    float64\n",
      " 4   PE        503 non-null    float64\n",
      " 5   DivdYld   505 non-null    float64\n",
      " 6   EPS       505 non-null    float64\n",
      " 7   52WLow    505 non-null    float64\n",
      " 8   52WkHigh  505 non-null    float64\n",
      " 9   MktCap    505 non-null    float64\n",
      " 10  EBITDA    505 non-null    float64\n",
      " 11  PS        505 non-null    float64\n",
      " 12  PB        497 non-null    float64\n",
      "dtypes: float64(10), object(3)\n",
      "memory usage: 51.4+ KB\n",
      "time: 0 ns (started: 2022-10-16 14:24:49 +08:00)\n"
     ]
    }
   ],
   "source": [
    "company_info.info()"
   ]
  },
  {
   "cell_type": "code",
   "execution_count": 15,
   "metadata": {},
   "outputs": [
    {
     "name": "stdout",
     "output_type": "stream",
     "text": [
      "time: 0 ns (started: 2022-10-16 14:27:16 +08:00)\n"
     ]
    }
   ],
   "source": [
    "# Since we only have a few null values, we can drop\n",
    "company_info = company_info.dropna()"
   ]
  },
  {
   "cell_type": "markdown",
   "metadata": {},
   "source": [
    "## Define functions"
   ]
  },
  {
   "cell_type": "code",
   "execution_count": 16,
   "metadata": {},
   "outputs": [
    {
     "name": "stdout",
     "output_type": "stream",
     "text": [
      "time: 0 ns (started: 2022-10-16 14:27:43 +08:00)\n"
     ]
    }
   ],
   "source": [
    "# function to plot a boxplot and a histogram along the same scale.\n",
    "\n",
    "\n",
    "def histogram_boxplot(data, feature, figsize=(12, 7), kde=False, bins=None):\n",
    "    \"\"\"\n",
    "    Boxplot and histogram combined\n",
    "\n",
    "    data: dataframe\n",
    "    feature: dataframe column\n",
    "    figsize: size of figure (default (12,7))\n",
    "    kde: whether to the show density curve (default False)\n",
    "    bins: number of bins for histogram (default None)\n",
    "    \"\"\"\n",
    "    f2, (ax_box2, ax_hist2) = plt.subplots(\n",
    "        nrows=2,  # Number of rows of the subplot grid= 2\n",
    "        sharex=True,  # x-axis will be shared among all subplots\n",
    "        gridspec_kw={\"height_ratios\": (0.25, 0.75)},\n",
    "        figsize=figsize,\n",
    "    )  # creating the 2 subplots\n",
    "    sns.boxplot(\n",
    "        data=data, x=feature, ax=ax_box2, showmeans=True, color=\"violet\"\n",
    "    )  # boxplot will be created and a star will indicate the mean value of the column\n",
    "    sns.histplot(\n",
    "        data=data, x=feature, kde=kde, ax=ax_hist2, bins=bins, palette=\"winter\"\n",
    "    ) if bins else sns.histplot(\n",
    "        data=data, x=feature, kde=kde, ax=ax_hist2\n",
    "    )  # For histogram\n",
    "    ax_hist2.axvline(\n",
    "        data[feature].mean(), color=\"green\", linestyle=\"--\"\n",
    "    )  # Add mean to the histogram\n",
    "    ax_hist2.axvline(\n",
    "        data[feature].median(), color=\"black\", linestyle=\"-\"\n",
    "    )  # Add median to the histogram"
   ]
  },
  {
   "cell_type": "code",
   "execution_count": 36,
   "metadata": {},
   "outputs": [
    {
     "name": "stdout",
     "output_type": "stream",
     "text": [
      "time: 0 ns (started: 2022-10-16 14:32:17 +08:00)\n"
     ]
    }
   ],
   "source": [
    "# function to create labeled barplots\n",
    "\n",
    "def labeled_barplot(data, feature, perc=False, n=None):\n",
    "    \"\"\"\n",
    "    Barplot with percentage at the top\n",
    "\n",
    "    data: dataframe\n",
    "    feature: dataframe column\n",
    "    perc: whether to display percentages instead of count (default is False)\n",
    "    n: displays the top n category levels (default is None, i.e., display all levels)\n",
    "    \"\"\"\n",
    "\n",
    "    total = len(data[feature])  # length of the column\n",
    "    count = data[feature].nunique()\n",
    "    if n is None:\n",
    "        plt.figure(figsize=(count + 1, 5))\n",
    "    else:\n",
    "        plt.figure(figsize=(n + 1, 5))\n",
    "\n",
    "    plt.xticks(rotation=90, fontsize=15)\n",
    "    ax = sns.countplot(\n",
    "        data=data,\n",
    "        x=feature,\n",
    "        palette=\"Paired\",\n",
    "        order=data[feature].value_counts().index[:n].sort_values(),\n",
    "    )\n",
    "    plt.xticks(rotation=70)\n",
    "\n",
    "    for p in ax.patches:\n",
    "        if perc == True:\n",
    "            label = \"{:.1f}%\".format(\n",
    "                100 * p.get_height() / total\n",
    "            )  # percentage of each class of the category\n",
    "        else:\n",
    "            label = p.get_height()  # count of each level of the category\n",
    "\n",
    "        x = p.get_x() + p.get_width() / 2  # width of the plot\n",
    "        y = p.get_height()  # height of the plot\n",
    "\n",
    "        ax.annotate(\n",
    "            label,\n",
    "            (x, y),\n",
    "            ha=\"center\",\n",
    "            va=\"center\",\n",
    "            size=12,\n",
    "            xytext=(0, 5),\n",
    "            textcoords=\"offset points\",\n",
    "        )  # annotate the percentage\n",
    "\n",
    "    plt.show()  # show the plot"
   ]
  },
  {
   "cell_type": "code",
   "execution_count": 37,
   "metadata": {},
   "outputs": [
    {
     "name": "stdout",
     "output_type": "stream",
     "text": [
      "time: 0 ns (started: 2022-10-16 14:32:17 +08:00)\n"
     ]
    }
   ],
   "source": [
    "# selecting numerical columns\n",
    "num_cols = company_info.select_dtypes(include=np.number).columns.tolist()"
   ]
  },
  {
   "cell_type": "markdown",
   "metadata": {},
   "source": [
    "### Plot some variables to see the distribution"
   ]
  },
  {
   "cell_type": "code",
   "execution_count": 38,
   "metadata": {
    "scrolled": true
   },
   "outputs": [
    {
     "ename": "NameError",
     "evalue": "name 'istogram_boxplot' is not defined",
     "output_type": "error",
     "traceback": [
      "\u001b[1;31m---------------------------------------------------------------------------\u001b[0m",
      "\u001b[1;31mNameError\u001b[0m                                 Traceback (most recent call last)",
      "\u001b[1;32m~\\AppData\\Local\\Temp/ipykernel_21744/2046941987.py\u001b[0m in \u001b[0;36m<module>\u001b[1;34m\u001b[0m\n\u001b[1;32m----> 1\u001b[1;33m \u001b[0mistogram_boxplot\u001b[0m\u001b[1;33m(\u001b[0m\u001b[0mcompany_info\u001b[0m\u001b[1;33m,\u001b[0m \u001b[0mnum_cols\u001b[0m\u001b[1;33m[\u001b[0m\u001b[1;36m0\u001b[0m\u001b[1;33m]\u001b[0m\u001b[1;33m,\u001b[0m \u001b[0mbins\u001b[0m\u001b[1;33m=\u001b[0m\u001b[1;36m50\u001b[0m\u001b[1;33m,\u001b[0m \u001b[0mkde\u001b[0m\u001b[1;33m=\u001b[0m\u001b[1;32mTrue\u001b[0m\u001b[1;33m,\u001b[0m \u001b[0mfigsize\u001b[0m\u001b[1;33m=\u001b[0m\u001b[1;33m(\u001b[0m\u001b[1;36m10\u001b[0m\u001b[1;33m,\u001b[0m \u001b[1;36m5\u001b[0m\u001b[1;33m)\u001b[0m\u001b[1;33m)\u001b[0m\u001b[1;33m\u001b[0m\u001b[1;33m\u001b[0m\u001b[0m\n\u001b[0m",
      "\u001b[1;31mNameError\u001b[0m: name 'istogram_boxplot' is not defined"
     ]
    },
    {
     "name": "stdout",
     "output_type": "stream",
     "text": [
      "time: 16 ms (started: 2022-10-16 14:32:18 +08:00)\n"
     ]
    }
   ],
   "source": [
    "istogram_boxplot(company_info, num_cols[0], bins=50, kde=True, figsize=(10, 5))"
   ]
  },
  {
   "cell_type": "code",
   "execution_count": 39,
   "metadata": {},
   "outputs": [
    {
     "data": {
      "image/png": "[encoded data removed]",
      "text/plain": [
       "<Figure size 864x360 with 1 Axes>"
      ]
     },
     "metadata": {
      "needs_background": "light"
     },
     "output_type": "display_data"
    },
    {
     "name": "stdout",
     "output_type": "stream",
     "text": [
      "time: 140 ms (started: 2022-10-16 14:32:18 +08:00)\n"
     ]
    }
   ],
   "source": [
    "labeled_barplot(company_info, \"Sector\", perc=True)"
   ]
  },
  {
   "cell_type": "code",
   "execution_count": 42,
   "metadata": {},
   "outputs": [
    {
     "data": {
      "image/png": "[encoded data removed]",
      "text/plain": [
       "<Figure size 1440x432 with 1 Axes>"
      ]
     },
     "metadata": {
      "needs_background": "light"
     },
     "output_type": "display_data"
    },
    {
     "name": "stdout",
     "output_type": "stream",
     "text": [
      "time: 187 ms (started: 2022-10-16 14:32:57 +08:00)\n"
     ]
    }
   ],
   "source": [
    "# Bivariate analysis\n",
    "# Stock Price_Change Vs. GICS_Sector\n",
    "\n",
    "plt.figure(figsize=(20,6))\n",
    "sns.boxplot(data = company_info, y = \"Price\", x = \"Sector\");"
   ]
  },
  {
   "cell_type": "code",
   "execution_count": null,
   "metadata": {},
   "outputs": [],
   "source": []
  }
 ],
 "metadata": {
  "_change_revision": 206,
  "_is_fork": false,
  "kernelspec": {
   "display_name": "Python 3 (ipykernel)",
   "language": "python",
   "name": "python3"
  },
  "language_info": {
   "codemirror_mode": {
    "name": "ipython",
    "version": 3
   },
   "file_extension": ".py",
   "mimetype": "text/x-python",
   "name": "python",
   "nbconvert_exporter": "python",
   "pygments_lexer": "ipython3",
   "version": "3.9.7"
  }
 },
 "nbformat": 4,
 "nbformat_minor": 1
}
