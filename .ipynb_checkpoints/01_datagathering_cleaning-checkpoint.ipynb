{
 "cells": [
  {
   "cell_type": "markdown",
   "metadata": {
    "_cell_guid": "83708667-4fdc-1563-7b3a-06b6575d2865"
   },
   "source": [
    "# Pairs Trading- finding pairs based on Clustering\n",
    "\n",
    "In this case study, we will use clustering methods to select pairs for a pairs trading\n",
    "strategy."
   ]
  },
  {
   "cell_type": "markdown",
   "metadata": {},
   "source": [
    "<a id='0'></a>\n",
    "# 1. Problem Definition"
   ]
  },
  {
   "cell_type": "markdown",
   "metadata": {},
   "source": [
    "Our goal in this case study is to perform clustering analysis on the stocks of S&P500\n",
    "and come up with pairs for a pairs trading strategy.\n",
    "\n",
    "\n",
    "The data of the stocks of S&P 500, obtained using pandas_datareader from yahoo\n",
    "finance. It includes price data from 2018 onwards."
   ]
  },
  {
   "cell_type": "markdown",
   "metadata": {},
   "source": [
    "<a id='1'></a>\n",
    "# 2. Getting Started- Loading the data and python packages"
   ]
  },
  {
   "cell_type": "markdown",
   "metadata": {},
   "source": [
    "<a id='1.1'></a>\n",
    "## 2.1. Loading the python packages"
   ]
  },
  {
   "cell_type": "code",
   "execution_count": 1,
   "metadata": {
    "_cell_guid": "5d8fee34-f454-2642-8b06-ed719f0317e1"
   },
   "outputs": [
    {
     "name": "stdout",
     "output_type": "stream",
     "text": [
      "time: 0 ns (started: 2022-10-16 10:04:50 +08:00)\n"
     ]
    }
   ],
   "source": [
    "# Load libraries\n",
    "import numpy as np\n",
    "import pandas as pd\n",
    "import matplotlib.pyplot as plt\n",
    "from pandas import read_csv, set_option\n",
    "from pandas.plotting import scatter_matrix\n",
    "import seaborn as sns\n",
    "from sklearn.preprocessing import StandardScaler\n",
    "import pandas_datareader as dr\n",
    "import pickle\n",
    "\n",
    "# Import Model Packages \n",
    "from sklearn.cluster import KMeans, AgglomerativeClustering, AffinityPropagation, DBSCAN\n",
    "from scipy.cluster.hierarchy import fcluster\n",
    "from scipy.cluster.hierarchy import dendrogram, linkage, cophenet\n",
    "from scipy.spatial.distance import pdist\n",
    "from sklearn.metrics import adjusted_mutual_info_score\n",
    "from sklearn import cluster, covariance, manifold\n",
    "\n",
    "# Other Helper Packages and functions\n",
    "import matplotlib.ticker as ticker\n",
    "from itertools import cycle\n",
    "\n",
    "import yahoo_fin.stock_info as si\n",
    "import yfinance as yf\n",
    "\n",
    "from datetime import datetime\n",
    "import warnings\n",
    "warnings.filterwarnings(\"ignore\")\n",
    "\n",
    "%matplotlib inline\n",
    "%load_ext autotime"
   ]
  },
  {
   "cell_type": "markdown",
   "metadata": {},
   "source": [
    "<a id='1.2'></a>\n",
    "## 2.2. Loading the Data"
   ]
  },
  {
   "cell_type": "code",
   "execution_count": 2,
   "metadata": {},
   "outputs": [
    {
     "name": "stdout",
     "output_type": "stream",
     "text": [
      "time: 1.19 s (started: 2022-10-16 10:04:50 +08:00)\n"
     ]
    }
   ],
   "source": [
    "# The dataset was obtained from Kaggle and imported\n",
    "df = pd.read_csv('../bigdata/stockprices.csv')"
   ]
  },
  {
   "cell_type": "code",
   "execution_count": 3,
   "metadata": {},
   "outputs": [
    {
     "data": {
      "text/html": [
       "<div>\n",
       "<style scoped>\n",
       "    .dataframe tbody tr th:only-of-type {\n",
       "        vertical-align: middle;\n",
       "    }\n",
       "\n",
       "    .dataframe tbody tr th {\n",
       "        vertical-align: top;\n",
       "    }\n",
       "\n",
       "    .dataframe thead th {\n",
       "        text-align: right;\n",
       "    }\n",
       "</style>\n",
       "<table border=\"1\" class=\"dataframe\">\n",
       "  <thead>\n",
       "    <tr style=\"text-align: right;\">\n",
       "      <th></th>\n",
       "      <th>Date</th>\n",
       "      <th>Symbol</th>\n",
       "      <th>Adj Close</th>\n",
       "      <th>Close</th>\n",
       "      <th>High</th>\n",
       "      <th>Low</th>\n",
       "      <th>Open</th>\n",
       "      <th>Volume</th>\n",
       "    </tr>\n",
       "  </thead>\n",
       "  <tbody>\n",
       "    <tr>\n",
       "      <th>0</th>\n",
       "      <td>2010-01-04 00:00:00-05:00</td>\n",
       "      <td>MMM</td>\n",
       "      <td>59.318886</td>\n",
       "      <td>83.019997</td>\n",
       "      <td>83.449997</td>\n",
       "      <td>82.669998</td>\n",
       "      <td>83.089996</td>\n",
       "      <td>3043700.0</td>\n",
       "    </tr>\n",
       "    <tr>\n",
       "      <th>1</th>\n",
       "      <td>2010-01-05 00:00:00-05:00</td>\n",
       "      <td>MMM</td>\n",
       "      <td>58.947342</td>\n",
       "      <td>82.500000</td>\n",
       "      <td>83.230003</td>\n",
       "      <td>81.699997</td>\n",
       "      <td>82.800003</td>\n",
       "      <td>2847000.0</td>\n",
       "    </tr>\n",
       "    <tr>\n",
       "      <th>2</th>\n",
       "      <td>2010-01-06 00:00:00-05:00</td>\n",
       "      <td>MMM</td>\n",
       "      <td>59.783295</td>\n",
       "      <td>83.669998</td>\n",
       "      <td>84.599998</td>\n",
       "      <td>83.510002</td>\n",
       "      <td>83.879997</td>\n",
       "      <td>5268500.0</td>\n",
       "    </tr>\n",
       "    <tr>\n",
       "      <th>3</th>\n",
       "      <td>2010-01-07 00:00:00-05:00</td>\n",
       "      <td>MMM</td>\n",
       "      <td>59.826176</td>\n",
       "      <td>83.730003</td>\n",
       "      <td>83.760002</td>\n",
       "      <td>82.120003</td>\n",
       "      <td>83.320000</td>\n",
       "      <td>4470100.0</td>\n",
       "    </tr>\n",
       "    <tr>\n",
       "      <th>4</th>\n",
       "      <td>2010-01-08 00:00:00-05:00</td>\n",
       "      <td>MMM</td>\n",
       "      <td>60.247749</td>\n",
       "      <td>84.320000</td>\n",
       "      <td>84.320000</td>\n",
       "      <td>83.300003</td>\n",
       "      <td>83.690002</td>\n",
       "      <td>3405800.0</td>\n",
       "    </tr>\n",
       "  </tbody>\n",
       "</table>\n",
       "</div>"
      ],
      "text/plain": [
       "                        Date Symbol  Adj Close      Close       High  \\\n",
       "0  2010-01-04 00:00:00-05:00    MMM  59.318886  83.019997  83.449997   \n",
       "1  2010-01-05 00:00:00-05:00    MMM  58.947342  82.500000  83.230003   \n",
       "2  2010-01-06 00:00:00-05:00    MMM  59.783295  83.669998  84.599998   \n",
       "3  2010-01-07 00:00:00-05:00    MMM  59.826176  83.730003  83.760002   \n",
       "4  2010-01-08 00:00:00-05:00    MMM  60.247749  84.320000  84.320000   \n",
       "\n",
       "         Low       Open     Volume  \n",
       "0  82.669998  83.089996  3043700.0  \n",
       "1  81.699997  82.800003  2847000.0  \n",
       "2  83.510002  83.879997  5268500.0  \n",
       "3  82.120003  83.320000  4470100.0  \n",
       "4  83.300003  83.690002  3405800.0  "
      ]
     },
     "execution_count": 3,
     "metadata": {},
     "output_type": "execute_result"
    },
    {
     "name": "stdout",
     "output_type": "stream",
     "text": [
      "time: 16 ms (started: 2022-10-16 10:04:51 +08:00)\n"
     ]
    }
   ],
   "source": [
    "df.head()"
   ]
  },
  {
   "cell_type": "code",
   "execution_count": 4,
   "metadata": {
    "scrolled": true
   },
   "outputs": [
    {
     "data": {
      "text/plain": [
       "1619660"
      ]
     },
     "execution_count": 4,
     "metadata": {},
     "output_type": "execute_result"
    },
    {
     "name": "stdout",
     "output_type": "stream",
     "text": [
      "time: 0 ns (started: 2022-10-16 10:04:51 +08:00)\n"
     ]
    }
   ],
   "source": [
    "len(df)"
   ]
  },
  {
   "cell_type": "code",
   "execution_count": 5,
   "metadata": {},
   "outputs": [
    {
     "name": "stdout",
     "output_type": "stream",
     "text": [
      "<class 'pandas.core.frame.DataFrame'>\n",
      "RangeIndex: 1619660 entries, 0 to 1619659\n",
      "Data columns (total 8 columns):\n",
      " #   Column     Non-Null Count    Dtype  \n",
      "---  ------     --------------    -----  \n",
      " 0   Date       1619660 non-null  object \n",
      " 1   Symbol     1619660 non-null  object \n",
      " 2   Adj Close  1547214 non-null  float64\n",
      " 3   Close      1547214 non-null  float64\n",
      " 4   High       1547214 non-null  float64\n",
      " 5   Low        1547214 non-null  float64\n",
      " 6   Open       1547214 non-null  float64\n",
      " 7   Volume     1547214 non-null  float64\n",
      "dtypes: float64(6), object(2)\n",
      "memory usage: 98.9+ MB\n",
      "time: 78 ms (started: 2022-10-16 10:04:51 +08:00)\n"
     ]
    }
   ],
   "source": [
    "df.info()"
   ]
  },
  {
   "cell_type": "code",
   "execution_count": 6,
   "metadata": {},
   "outputs": [
    {
     "name": "stdout",
     "output_type": "stream",
     "text": [
      "time: 422 ms (started: 2022-10-16 10:04:51 +08:00)\n"
     ]
    }
   ],
   "source": [
    "# Define start date and end date for the data\n",
    "start_date = '2015-01-03'\n",
    "end_date = '2019-12-31'\n",
    "\n",
    "df_filter_dates = df[(df.Date>=start_date) & (df.Date<=end_date)]\n",
    "\n",
    "# Additionally keep two more unseen datasets for testing later\n",
    "df_2020 = df[(df.Date>='2020-01-01') & (df.Date<='2020-12-31')]\n",
    "df_2021 = df[(df.Date>='2021-01-01') & (df.Date<='2021-12-31')]\n",
    "df_2022 = df[(df.Date>='2022-01-01') & (df.Date<='2022-12-31')]"
   ]
  },
  {
   "cell_type": "code",
   "execution_count": 7,
   "metadata": {},
   "outputs": [
    {
     "name": "stdout",
     "output_type": "stream",
     "text": [
      "time: 3.83 s (started: 2022-10-16 10:04:52 +08:00)\n"
     ]
    }
   ],
   "source": [
    "# Saved to filtered file to csv\n",
    "df_filter_dates.to_csv('./data/prices_2015_2019.csv')"
   ]
  },
  {
   "cell_type": "code",
   "execution_count": 8,
   "metadata": {
    "scrolled": true
   },
   "outputs": [
    {
     "data": {
      "text/html": [
       "<div>\n",
       "<style scoped>\n",
       "    .dataframe tbody tr th:only-of-type {\n",
       "        vertical-align: middle;\n",
       "    }\n",
       "\n",
       "    .dataframe tbody tr th {\n",
       "        vertical-align: top;\n",
       "    }\n",
       "\n",
       "    .dataframe thead th {\n",
       "        text-align: right;\n",
       "    }\n",
       "</style>\n",
       "<table border=\"1\" class=\"dataframe\">\n",
       "  <thead>\n",
       "    <tr style=\"text-align: right;\">\n",
       "      <th></th>\n",
       "      <th>Date</th>\n",
       "      <th>Symbol</th>\n",
       "      <th>Adj Close</th>\n",
       "      <th>Close</th>\n",
       "      <th>High</th>\n",
       "      <th>Low</th>\n",
       "      <th>Open</th>\n",
       "      <th>Volume</th>\n",
       "    </tr>\n",
       "  </thead>\n",
       "  <tbody>\n",
       "    <tr>\n",
       "      <th>1260</th>\n",
       "      <td>2015-01-05 00:00:00-05:00</td>\n",
       "      <td>MMM</td>\n",
       "      <td>129.675308</td>\n",
       "      <td>160.360001</td>\n",
       "      <td>163.639999</td>\n",
       "      <td>160.080002</td>\n",
       "      <td>163.000000</td>\n",
       "      <td>3692900.0</td>\n",
       "    </tr>\n",
       "    <tr>\n",
       "      <th>1261</th>\n",
       "      <td>2015-01-06 00:00:00-05:00</td>\n",
       "      <td>MMM</td>\n",
       "      <td>128.292511</td>\n",
       "      <td>158.649994</td>\n",
       "      <td>161.369995</td>\n",
       "      <td>157.740005</td>\n",
       "      <td>160.820007</td>\n",
       "      <td>3532000.0</td>\n",
       "    </tr>\n",
       "    <tr>\n",
       "      <th>1262</th>\n",
       "      <td>2015-01-07 00:00:00-05:00</td>\n",
       "      <td>MMM</td>\n",
       "      <td>129.222473</td>\n",
       "      <td>159.800003</td>\n",
       "      <td>160.279999</td>\n",
       "      <td>158.940002</td>\n",
       "      <td>159.899994</td>\n",
       "      <td>3081300.0</td>\n",
       "    </tr>\n",
       "    <tr>\n",
       "      <th>1263</th>\n",
       "      <td>2015-01-08 00:00:00-05:00</td>\n",
       "      <td>MMM</td>\n",
       "      <td>132.319626</td>\n",
       "      <td>163.630005</td>\n",
       "      <td>163.690002</td>\n",
       "      <td>160.520004</td>\n",
       "      <td>160.649994</td>\n",
       "      <td>3142900.0</td>\n",
       "    </tr>\n",
       "    <tr>\n",
       "      <th>1264</th>\n",
       "      <td>2015-01-09 00:00:00-05:00</td>\n",
       "      <td>MMM</td>\n",
       "      <td>130.694183</td>\n",
       "      <td>161.619995</td>\n",
       "      <td>164.000000</td>\n",
       "      <td>161.270004</td>\n",
       "      <td>163.850006</td>\n",
       "      <td>2378600.0</td>\n",
       "    </tr>\n",
       "  </tbody>\n",
       "</table>\n",
       "</div>"
      ],
      "text/plain": [
       "                           Date Symbol   Adj Close       Close        High  \\\n",
       "1260  2015-01-05 00:00:00-05:00    MMM  129.675308  160.360001  163.639999   \n",
       "1261  2015-01-06 00:00:00-05:00    MMM  128.292511  158.649994  161.369995   \n",
       "1262  2015-01-07 00:00:00-05:00    MMM  129.222473  159.800003  160.279999   \n",
       "1263  2015-01-08 00:00:00-05:00    MMM  132.319626  163.630005  163.690002   \n",
       "1264  2015-01-09 00:00:00-05:00    MMM  130.694183  161.619995  164.000000   \n",
       "\n",
       "             Low        Open     Volume  \n",
       "1260  160.080002  163.000000  3692900.0  \n",
       "1261  157.740005  160.820007  3532000.0  \n",
       "1262  158.940002  159.899994  3081300.0  \n",
       "1263  160.520004  160.649994  3142900.0  \n",
       "1264  161.270004  163.850006  2378600.0  "
      ]
     },
     "execution_count": 8,
     "metadata": {},
     "output_type": "execute_result"
    },
    {
     "name": "stdout",
     "output_type": "stream",
     "text": [
      "time: 16 ms (started: 2022-10-16 10:04:55 +08:00)\n"
     ]
    }
   ],
   "source": [
    "df_filter_dates.head()"
   ]
  },
  {
   "cell_type": "code",
   "execution_count": 9,
   "metadata": {
    "scrolled": true
   },
   "outputs": [
    {
     "name": "stdout",
     "output_type": "stream",
     "text": [
      "time: 375 ms (started: 2022-10-16 10:04:55 +08:00)\n"
     ]
    }
   ],
   "source": [
    "# Pivot and transform the table\n",
    "dataset = pd.pivot_table(df_filter_dates, index='Date', columns='Symbol', values='Adj Close')"
   ]
  },
  {
   "cell_type": "code",
   "execution_count": 10,
   "metadata": {},
   "outputs": [
    {
     "data": {
      "text/plain": [
       "Index(['2015-01-05 00:00:00-05:00', '2015-01-06 00:00:00-05:00',\n",
       "       '2015-01-07 00:00:00-05:00', '2015-01-08 00:00:00-05:00',\n",
       "       '2015-01-09 00:00:00-05:00', '2015-01-12 00:00:00-05:00',\n",
       "       '2015-01-13 00:00:00-05:00', '2015-01-14 00:00:00-05:00',\n",
       "       '2015-01-15 00:00:00-05:00', '2015-01-16 00:00:00-05:00',\n",
       "       ...\n",
       "       '2019-12-16 00:00:00-05:00', '2019-12-17 00:00:00-05:00',\n",
       "       '2019-12-18 00:00:00-05:00', '2019-12-19 00:00:00-05:00',\n",
       "       '2019-12-20 00:00:00-05:00', '2019-12-23 00:00:00-05:00',\n",
       "       '2019-12-24 00:00:00-05:00', '2019-12-26 00:00:00-05:00',\n",
       "       '2019-12-27 00:00:00-05:00', '2019-12-30 00:00:00-05:00'],\n",
       "      dtype='object', name='Date', length=1256)"
      ]
     },
     "execution_count": 10,
     "metadata": {},
     "output_type": "execute_result"
    },
    {
     "name": "stdout",
     "output_type": "stream",
     "text": [
      "time: 0 ns (started: 2022-10-16 10:04:56 +08:00)\n"
     ]
    }
   ],
   "source": [
    "dataset.index"
   ]
  },
  {
   "cell_type": "code",
   "execution_count": 11,
   "metadata": {
    "scrolled": true
   },
   "outputs": [
    {
     "name": "stdout",
     "output_type": "stream",
     "text": [
      "time: 0 ns (started: 2022-10-16 10:04:56 +08:00)\n"
     ]
    }
   ],
   "source": [
    "# Format the date column\n",
    "dataset.index = pd.to_datetime(dataset.index, utc=True)"
   ]
  },
  {
   "cell_type": "code",
   "execution_count": 12,
   "metadata": {
    "scrolled": true
   },
   "outputs": [
    {
     "name": "stdout",
     "output_type": "stream",
     "text": [
      "time: 0 ns (started: 2022-10-16 10:04:56 +08:00)\n"
     ]
    }
   ],
   "source": [
    "dataset.index = pd.to_datetime(dataset.index).strftime('%Y-%m-%d')"
   ]
  },
  {
   "cell_type": "markdown",
   "metadata": {
    "_cell_guid": "df6a4523-b385-69ee-c933-592826d81431"
   },
   "source": [
    "<a id='2'></a>\n",
    "# 3. Exploratory Data Analysis"
   ]
  },
  {
   "cell_type": "markdown",
   "metadata": {},
   "source": [
    "<a id='2.1'></a>\n",
    "## 3.1. Descriptive Statistics"
   ]
  },
  {
   "cell_type": "code",
   "execution_count": 13,
   "metadata": {
    "_cell_guid": "52f85dc2-0f91-3c50-400e-ddc38bea966b"
   },
   "outputs": [
    {
     "data": {
      "text/plain": [
       "(1256, 499)"
      ]
     },
     "execution_count": 13,
     "metadata": {},
     "output_type": "execute_result"
    },
    {
     "name": "stdout",
     "output_type": "stream",
     "text": [
      "time: 0 ns (started: 2022-10-16 10:04:56 +08:00)\n"
     ]
    }
   ],
   "source": [
    "# Shape of dataset\n",
    "dataset.shape"
   ]
  },
  {
   "cell_type": "code",
   "execution_count": 14,
   "metadata": {},
   "outputs": [
    {
     "data": {
      "text/html": [
       "<div>\n",
       "<style scoped>\n",
       "    .dataframe tbody tr th:only-of-type {\n",
       "        vertical-align: middle;\n",
       "    }\n",
       "\n",
       "    .dataframe tbody tr th {\n",
       "        vertical-align: top;\n",
       "    }\n",
       "\n",
       "    .dataframe thead th {\n",
       "        text-align: right;\n",
       "    }\n",
       "</style>\n",
       "<table border=\"1\" class=\"dataframe\">\n",
       "  <thead>\n",
       "    <tr style=\"text-align: right;\">\n",
       "      <th>Symbol</th>\n",
       "      <th>A</th>\n",
       "      <th>AAL</th>\n",
       "      <th>AAP</th>\n",
       "      <th>AAPL</th>\n",
       "      <th>ABBV</th>\n",
       "      <th>ABC</th>\n",
       "      <th>ABMD</th>\n",
       "      <th>ABT</th>\n",
       "      <th>ACN</th>\n",
       "      <th>ADBE</th>\n",
       "      <th>...</th>\n",
       "      <th>WYNN</th>\n",
       "      <th>XEL</th>\n",
       "      <th>XOM</th>\n",
       "      <th>XRAY</th>\n",
       "      <th>XYL</th>\n",
       "      <th>YUM</th>\n",
       "      <th>ZBH</th>\n",
       "      <th>ZBRA</th>\n",
       "      <th>ZION</th>\n",
       "      <th>ZTS</th>\n",
       "    </tr>\n",
       "    <tr>\n",
       "      <th>Date</th>\n",
       "      <th></th>\n",
       "      <th></th>\n",
       "      <th></th>\n",
       "      <th></th>\n",
       "      <th></th>\n",
       "      <th></th>\n",
       "      <th></th>\n",
       "      <th></th>\n",
       "      <th></th>\n",
       "      <th></th>\n",
       "      <th></th>\n",
       "      <th></th>\n",
       "      <th></th>\n",
       "      <th></th>\n",
       "      <th></th>\n",
       "      <th></th>\n",
       "      <th></th>\n",
       "      <th></th>\n",
       "      <th></th>\n",
       "      <th></th>\n",
       "      <th></th>\n",
       "    </tr>\n",
       "  </thead>\n",
       "  <tbody>\n",
       "    <tr>\n",
       "      <th>2015-01-05</th>\n",
       "      <td>37.420185</td>\n",
       "      <td>51.051483</td>\n",
       "      <td>151.336792</td>\n",
       "      <td>24.120045</td>\n",
       "      <td>46.710945</td>\n",
       "      <td>79.661964</td>\n",
       "      <td>37.070000</td>\n",
       "      <td>39.125034</td>\n",
       "      <td>76.426567</td>\n",
       "      <td>71.980003</td>\n",
       "      <td>...</td>\n",
       "      <td>127.430626</td>\n",
       "      <td>29.178459</td>\n",
       "      <td>64.219269</td>\n",
       "      <td>49.259911</td>\n",
       "      <td>32.530121</td>\n",
       "      <td>44.445164</td>\n",
       "      <td>107.125671</td>\n",
       "      <td>76.339996</td>\n",
       "      <td>24.042185</td>\n",
       "      <td>41.035954</td>\n",
       "    </tr>\n",
       "    <tr>\n",
       "      <th>2015-01-06</th>\n",
       "      <td>36.837265</td>\n",
       "      <td>50.255585</td>\n",
       "      <td>151.230377</td>\n",
       "      <td>24.122320</td>\n",
       "      <td>46.479752</td>\n",
       "      <td>80.097168</td>\n",
       "      <td>36.130001</td>\n",
       "      <td>38.680729</td>\n",
       "      <td>75.875282</td>\n",
       "      <td>70.529999</td>\n",
       "      <td>...</td>\n",
       "      <td>124.712402</td>\n",
       "      <td>29.333715</td>\n",
       "      <td>63.877869</td>\n",
       "      <td>48.648579</td>\n",
       "      <td>32.338821</td>\n",
       "      <td>43.899632</td>\n",
       "      <td>106.217575</td>\n",
       "      <td>75.790001</td>\n",
       "      <td>23.123941</td>\n",
       "      <td>40.635601</td>\n",
       "    </tr>\n",
       "    <tr>\n",
       "      <th>2015-01-07</th>\n",
       "      <td>37.326168</td>\n",
       "      <td>50.227158</td>\n",
       "      <td>154.480148</td>\n",
       "      <td>24.460564</td>\n",
       "      <td>48.358299</td>\n",
       "      <td>81.695938</td>\n",
       "      <td>37.279999</td>\n",
       "      <td>38.994354</td>\n",
       "      <td>77.467850</td>\n",
       "      <td>71.110001</td>\n",
       "      <td>...</td>\n",
       "      <td>128.374954</td>\n",
       "      <td>29.587006</td>\n",
       "      <td>64.525108</td>\n",
       "      <td>49.909447</td>\n",
       "      <td>32.593887</td>\n",
       "      <td>45.354382</td>\n",
       "      <td>108.859299</td>\n",
       "      <td>77.720001</td>\n",
       "      <td>23.344675</td>\n",
       "      <td>41.474419</td>\n",
       "    </tr>\n",
       "    <tr>\n",
       "      <th>2015-01-08</th>\n",
       "      <td>38.445004</td>\n",
       "      <td>50.843037</td>\n",
       "      <td>155.834167</td>\n",
       "      <td>25.400398</td>\n",
       "      <td>48.864059</td>\n",
       "      <td>81.882439</td>\n",
       "      <td>38.959999</td>\n",
       "      <td>39.795853</td>\n",
       "      <td>78.649185</td>\n",
       "      <td>72.919998</td>\n",
       "      <td>...</td>\n",
       "      <td>129.919449</td>\n",
       "      <td>29.930189</td>\n",
       "      <td>65.599113</td>\n",
       "      <td>51.141659</td>\n",
       "      <td>32.839859</td>\n",
       "      <td>46.144466</td>\n",
       "      <td>110.015007</td>\n",
       "      <td>79.379997</td>\n",
       "      <td>23.671360</td>\n",
       "      <td>42.113091</td>\n",
       "    </tr>\n",
       "    <tr>\n",
       "      <th>2015-01-09</th>\n",
       "      <td>38.162949</td>\n",
       "      <td>49.289127</td>\n",
       "      <td>155.041122</td>\n",
       "      <td>25.427635</td>\n",
       "      <td>47.527401</td>\n",
       "      <td>82.601891</td>\n",
       "      <td>38.410000</td>\n",
       "      <td>39.377686</td>\n",
       "      <td>78.561676</td>\n",
       "      <td>71.839996</td>\n",
       "      <td>...</td>\n",
       "      <td>131.543274</td>\n",
       "      <td>29.562494</td>\n",
       "      <td>65.506653</td>\n",
       "      <td>50.396595</td>\n",
       "      <td>32.220402</td>\n",
       "      <td>46.062954</td>\n",
       "      <td>108.428177</td>\n",
       "      <td>80.540001</td>\n",
       "      <td>23.009155</td>\n",
       "      <td>42.179813</td>\n",
       "    </tr>\n",
       "  </tbody>\n",
       "</table>\n",
       "<p>5 rows × 499 columns</p>\n",
       "</div>"
      ],
      "text/plain": [
       "Symbol              A        AAL         AAP       AAPL       ABBV        ABC       ABMD  \\\n",
       "Date                                                                                       \n",
       "2015-01-05  37.420185  51.051483  151.336792  24.120045  46.710945  79.661964  37.070000   \n",
       "2015-01-06  36.837265  50.255585  151.230377  24.122320  46.479752  80.097168  36.130001   \n",
       "2015-01-07  37.326168  50.227158  154.480148  24.460564  48.358299  81.695938  37.279999   \n",
       "2015-01-08  38.445004  50.843037  155.834167  25.400398  48.864059  81.882439  38.959999   \n",
       "2015-01-09  38.162949  49.289127  155.041122  25.427635  47.527401  82.601891  38.410000   \n",
       "\n",
       "Symbol            ABT        ACN       ADBE  ...        WYNN        XEL        XOM       XRAY  \\\n",
       "Date                                         ...                                                \n",
       "2015-01-05  39.125034  76.426567  71.980003  ...  127.430626  29.178459  64.219269  49.259911   \n",
       "2015-01-06  38.680729  75.875282  70.529999  ...  124.712402  29.333715  63.877869  48.648579   \n",
       "2015-01-07  38.994354  77.467850  71.110001  ...  128.374954  29.587006  64.525108  49.909447   \n",
       "2015-01-08  39.795853  78.649185  72.919998  ...  129.919449  29.930189  65.599113  51.141659   \n",
       "2015-01-09  39.377686  78.561676  71.839996  ...  131.543274  29.562494  65.506653  50.396595   \n",
       "\n",
       "Symbol            XYL        YUM         ZBH       ZBRA       ZION        ZTS  \n",
       "Date                                                                           \n",
       "2015-01-05  32.530121  44.445164  107.125671  76.339996  24.042185  41.035954  \n",
       "2015-01-06  32.338821  43.899632  106.217575  75.790001  23.123941  40.635601  \n",
       "2015-01-07  32.593887  45.354382  108.859299  77.720001  23.344675  41.474419  \n",
       "2015-01-08  32.839859  46.144466  110.015007  79.379997  23.671360  42.113091  \n",
       "2015-01-09  32.220402  46.062954  108.428177  80.540001  23.009155  42.179813  \n",
       "\n",
       "[5 rows x 499 columns]"
      ]
     },
     "execution_count": 14,
     "metadata": {},
     "output_type": "execute_result"
    },
    {
     "name": "stdout",
     "output_type": "stream",
     "text": [
      "time: 0 ns (started: 2022-10-16 10:04:56 +08:00)\n"
     ]
    }
   ],
   "source": [
    "# peek at data\n",
    "set_option('display.width', 100)\n",
    "dataset.head(5)"
   ]
  },
  {
   "cell_type": "code",
   "execution_count": 15,
   "metadata": {
    "_cell_guid": "7bffeec0-5bbc-fffb-18f2-3da56b862ca3"
   },
   "outputs": [
    {
     "data": {
      "text/html": [
       "<div>\n",
       "<style scoped>\n",
       "    .dataframe tbody tr th:only-of-type {\n",
       "        vertical-align: middle;\n",
       "    }\n",
       "\n",
       "    .dataframe tbody tr th {\n",
       "        vertical-align: top;\n",
       "    }\n",
       "\n",
       "    .dataframe thead th {\n",
       "        text-align: right;\n",
       "    }\n",
       "</style>\n",
       "<table border=\"1\" class=\"dataframe\">\n",
       "  <thead>\n",
       "    <tr style=\"text-align: right;\">\n",
       "      <th>Symbol</th>\n",
       "      <th>A</th>\n",
       "      <th>AAL</th>\n",
       "      <th>AAP</th>\n",
       "      <th>AAPL</th>\n",
       "      <th>ABBV</th>\n",
       "      <th>ABC</th>\n",
       "      <th>ABMD</th>\n",
       "      <th>ABT</th>\n",
       "      <th>ACN</th>\n",
       "      <th>ADBE</th>\n",
       "      <th>...</th>\n",
       "      <th>WYNN</th>\n",
       "      <th>XEL</th>\n",
       "      <th>XOM</th>\n",
       "      <th>XRAY</th>\n",
       "      <th>XYL</th>\n",
       "      <th>YUM</th>\n",
       "      <th>ZBH</th>\n",
       "      <th>ZBRA</th>\n",
       "      <th>ZION</th>\n",
       "      <th>ZTS</th>\n",
       "    </tr>\n",
       "  </thead>\n",
       "  <tbody>\n",
       "    <tr>\n",
       "      <th>count</th>\n",
       "      <td>1256.000</td>\n",
       "      <td>1256.000</td>\n",
       "      <td>1256.000</td>\n",
       "      <td>1256.000</td>\n",
       "      <td>1256.000</td>\n",
       "      <td>1256.000</td>\n",
       "      <td>1256.000</td>\n",
       "      <td>1256.000</td>\n",
       "      <td>1256.000</td>\n",
       "      <td>1256.000</td>\n",
       "      <td>...</td>\n",
       "      <td>1256.000</td>\n",
       "      <td>1256.000</td>\n",
       "      <td>1256.000</td>\n",
       "      <td>1256.000</td>\n",
       "      <td>1256.000</td>\n",
       "      <td>1256.000</td>\n",
       "      <td>1256.000</td>\n",
       "      <td>1256.000</td>\n",
       "      <td>1256.000</td>\n",
       "      <td>1256.000</td>\n",
       "    </tr>\n",
       "    <tr>\n",
       "      <th>mean</th>\n",
       "      <td>55.006</td>\n",
       "      <td>39.638</td>\n",
       "      <td>143.622</td>\n",
       "      <td>36.906</td>\n",
       "      <td>59.805</td>\n",
       "      <td>82.091</td>\n",
       "      <td>182.990</td>\n",
       "      <td>52.047</td>\n",
       "      <td>127.330</td>\n",
       "      <td>167.241</td>\n",
       "      <td>...</td>\n",
       "      <td>111.760</td>\n",
       "      <td>40.805</td>\n",
       "      <td>62.954</td>\n",
       "      <td>53.025</td>\n",
       "      <td>54.490</td>\n",
       "      <td>70.015</td>\n",
       "      <td>109.944</td>\n",
       "      <td>122.043</td>\n",
       "      <td>36.427</td>\n",
       "      <td>68.409</td>\n",
       "    </tr>\n",
       "    <tr>\n",
       "      <th>std</th>\n",
       "      <td>14.512</td>\n",
       "      <td>7.182</td>\n",
       "      <td>23.422</td>\n",
       "      <td>11.335</td>\n",
       "      <td>14.624</td>\n",
       "      <td>8.115</td>\n",
       "      <td>107.157</td>\n",
       "      <td>15.550</td>\n",
       "      <td>33.608</td>\n",
       "      <td>79.427</td>\n",
       "      <td>...</td>\n",
       "      <td>30.902</td>\n",
       "      <td>9.438</td>\n",
       "      <td>3.668</td>\n",
       "      <td>7.393</td>\n",
       "      <td>16.691</td>\n",
       "      <td>18.610</td>\n",
       "      <td>11.452</td>\n",
       "      <td>53.268</td>\n",
       "      <td>9.894</td>\n",
       "      <td>25.690</td>\n",
       "    </tr>\n",
       "    <tr>\n",
       "      <th>min</th>\n",
       "      <td>31.622</td>\n",
       "      <td>24.281</td>\n",
       "      <td>77.127</td>\n",
       "      <td>21.099</td>\n",
       "      <td>36.022</td>\n",
       "      <td>62.801</td>\n",
       "      <td>36.130</td>\n",
       "      <td>32.535</td>\n",
       "      <td>73.530</td>\n",
       "      <td>69.990</td>\n",
       "      <td>...</td>\n",
       "      <td>46.518</td>\n",
       "      <td>26.588</td>\n",
       "      <td>50.110</td>\n",
       "      <td>33.568</td>\n",
       "      <td>27.965</td>\n",
       "      <td>42.096</td>\n",
       "      <td>84.815</td>\n",
       "      <td>46.930</td>\n",
       "      <td>17.704</td>\n",
       "      <td>37.846</td>\n",
       "    </tr>\n",
       "    <tr>\n",
       "      <th>25%</th>\n",
       "      <td>39.922</td>\n",
       "      <td>33.877</td>\n",
       "      <td>136.224</td>\n",
       "      <td>26.777</td>\n",
       "      <td>47.497</td>\n",
       "      <td>76.607</td>\n",
       "      <td>97.265</td>\n",
       "      <td>39.348</td>\n",
       "      <td>100.986</td>\n",
       "      <td>93.993</td>\n",
       "      <td>...</td>\n",
       "      <td>89.535</td>\n",
       "      <td>34.143</td>\n",
       "      <td>60.485</td>\n",
       "      <td>49.051</td>\n",
       "      <td>38.141</td>\n",
       "      <td>55.215</td>\n",
       "      <td>103.562</td>\n",
       "      <td>80.683</td>\n",
       "      <td>25.753</td>\n",
       "      <td>46.105</td>\n",
       "    </tr>\n",
       "    <tr>\n",
       "      <th>50%</th>\n",
       "      <td>57.711</td>\n",
       "      <td>39.597</td>\n",
       "      <td>149.835</td>\n",
       "      <td>36.048</td>\n",
       "      <td>56.181</td>\n",
       "      <td>81.444</td>\n",
       "      <td>142.980</td>\n",
       "      <td>45.068</td>\n",
       "      <td>117.823</td>\n",
       "      <td>143.605</td>\n",
       "      <td>...</td>\n",
       "      <td>111.691</td>\n",
       "      <td>39.919</td>\n",
       "      <td>63.094</td>\n",
       "      <td>54.760</td>\n",
       "      <td>51.807</td>\n",
       "      <td>68.095</td>\n",
       "      <td>109.340</td>\n",
       "      <td>105.910</td>\n",
       "      <td>38.932</td>\n",
       "      <td>60.530</td>\n",
       "    </tr>\n",
       "    <tr>\n",
       "      <th>75%</th>\n",
       "      <td>66.881</td>\n",
       "      <td>45.370</td>\n",
       "      <td>158.723</td>\n",
       "      <td>45.070</td>\n",
       "      <td>73.447</td>\n",
       "      <td>85.989</td>\n",
       "      <td>265.538</td>\n",
       "      <td>64.727</td>\n",
       "      <td>152.798</td>\n",
       "      <td>249.120</td>\n",
       "      <td>...</td>\n",
       "      <td>131.382</td>\n",
       "      <td>45.372</td>\n",
       "      <td>65.577</td>\n",
       "      <td>58.498</td>\n",
       "      <td>71.192</td>\n",
       "      <td>82.795</td>\n",
       "      <td>116.975</td>\n",
       "      <td>163.580</td>\n",
       "      <td>45.054</td>\n",
       "      <td>86.562</td>\n",
       "    </tr>\n",
       "    <tr>\n",
       "      <th>max</th>\n",
       "      <td>84.129</td>\n",
       "      <td>56.989</td>\n",
       "      <td>194.023</td>\n",
       "      <td>72.026</td>\n",
       "      <td>99.695</td>\n",
       "      <td>102.871</td>\n",
       "      <td>449.750</td>\n",
       "      <td>85.388</td>\n",
       "      <td>205.783</td>\n",
       "      <td>331.200</td>\n",
       "      <td>...</td>\n",
       "      <td>190.356</td>\n",
       "      <td>62.595</td>\n",
       "      <td>71.204</td>\n",
       "      <td>66.581</td>\n",
       "      <td>82.366</td>\n",
       "      <td>114.009</td>\n",
       "      <td>144.435</td>\n",
       "      <td>258.280</td>\n",
       "      <td>53.566</td>\n",
       "      <td>131.554</td>\n",
       "    </tr>\n",
       "  </tbody>\n",
       "</table>\n",
       "<p>8 rows × 499 columns</p>\n",
       "</div>"
      ],
      "text/plain": [
       "Symbol         A       AAL       AAP      AAPL      ABBV       ABC      ABMD       ABT       ACN  \\\n",
       "count   1256.000  1256.000  1256.000  1256.000  1256.000  1256.000  1256.000  1256.000  1256.000   \n",
       "mean      55.006    39.638   143.622    36.906    59.805    82.091   182.990    52.047   127.330   \n",
       "std       14.512     7.182    23.422    11.335    14.624     8.115   107.157    15.550    33.608   \n",
       "min       31.622    24.281    77.127    21.099    36.022    62.801    36.130    32.535    73.530   \n",
       "25%       39.922    33.877   136.224    26.777    47.497    76.607    97.265    39.348   100.986   \n",
       "50%       57.711    39.597   149.835    36.048    56.181    81.444   142.980    45.068   117.823   \n",
       "75%       66.881    45.370   158.723    45.070    73.447    85.989   265.538    64.727   152.798   \n",
       "max       84.129    56.989   194.023    72.026    99.695   102.871   449.750    85.388   205.783   \n",
       "\n",
       "Symbol      ADBE  ...      WYNN       XEL       XOM      XRAY       XYL       YUM       ZBH  \\\n",
       "count   1256.000  ...  1256.000  1256.000  1256.000  1256.000  1256.000  1256.000  1256.000   \n",
       "mean     167.241  ...   111.760    40.805    62.954    53.025    54.490    70.015   109.944   \n",
       "std       79.427  ...    30.902     9.438     3.668     7.393    16.691    18.610    11.452   \n",
       "min       69.990  ...    46.518    26.588    50.110    33.568    27.965    42.096    84.815   \n",
       "25%       93.993  ...    89.535    34.143    60.485    49.051    38.141    55.215   103.562   \n",
       "50%      143.605  ...   111.691    39.919    63.094    54.760    51.807    68.095   109.340   \n",
       "75%      249.120  ...   131.382    45.372    65.577    58.498    71.192    82.795   116.975   \n",
       "max      331.200  ...   190.356    62.595    71.204    66.581    82.366   114.009   144.435   \n",
       "\n",
       "Symbol      ZBRA      ZION       ZTS  \n",
       "count   1256.000  1256.000  1256.000  \n",
       "mean     122.043    36.427    68.409  \n",
       "std       53.268     9.894    25.690  \n",
       "min       46.930    17.704    37.846  \n",
       "25%       80.683    25.753    46.105  \n",
       "50%      105.910    38.932    60.530  \n",
       "75%      163.580    45.054    86.562  \n",
       "max      258.280    53.566   131.554  \n",
       "\n",
       "[8 rows x 499 columns]"
      ]
     },
     "execution_count": 15,
     "metadata": {},
     "output_type": "execute_result"
    },
    {
     "name": "stdout",
     "output_type": "stream",
     "text": [
      "time: 500 ms (started: 2022-10-16 10:04:56 +08:00)\n"
     ]
    }
   ],
   "source": [
    "# describe data\n",
    "set_option('precision', 3)\n",
    "dataset.describe()"
   ]
  },
  {
   "cell_type": "markdown",
   "metadata": {},
   "source": [
    "<a id='3'></a>\n",
    "## 4. Data Preparation"
   ]
  },
  {
   "cell_type": "markdown",
   "metadata": {},
   "source": [
    "<a id='3.1'></a>\n",
    "## 4.1. Data Cleaning\n",
    "We check for the NAs in the rows, either drop them or fill them with the mean of the column."
   ]
  },
  {
   "cell_type": "code",
   "execution_count": 16,
   "metadata": {
    "scrolled": true
   },
   "outputs": [
    {
     "name": "stdout",
     "output_type": "stream",
     "text": [
      "Null Values = True\n",
      "time: 0 ns (started: 2022-10-16 10:04:56 +08:00)\n"
     ]
    }
   ],
   "source": [
    "#Checking for any null values and removing the null values'''\n",
    "print('Null Values =', dataset.isnull().values.any())"
   ]
  },
  {
   "cell_type": "code",
   "execution_count": 17,
   "metadata": {},
   "outputs": [
    {
     "data": {
      "text/plain": [
       "(1256, 487)"
      ]
     },
     "execution_count": 17,
     "metadata": {},
     "output_type": "execute_result"
    },
    {
     "name": "stdout",
     "output_type": "stream",
     "text": [
      "time: 15 ms (started: 2022-10-16 10:04:56 +08:00)\n"
     ]
    }
   ],
   "source": [
    "# Getting rid of columns with more than 30% missing values\n",
    "missing_fractions = dataset.isnull().mean().sort_values(ascending=False)\n",
    "\n",
    "missing_fractions.head(10)\n",
    "\n",
    "drop_list = sorted(list(missing_fractions[missing_fractions > 0.2].index))\n",
    "\n",
    "dataset.drop(labels=drop_list, axis=1, inplace=True)\n",
    "dataset.shape"
   ]
  },
  {
   "cell_type": "markdown",
   "metadata": {},
   "source": [
    "Given that there are null values drop the rown contianing the null values."
   ]
  },
  {
   "cell_type": "code",
   "execution_count": 18,
   "metadata": {
    "scrolled": true
   },
   "outputs": [
    {
     "data": {
      "text/html": [
       "<div>\n",
       "<style scoped>\n",
       "    .dataframe tbody tr th:only-of-type {\n",
       "        vertical-align: middle;\n",
       "    }\n",
       "\n",
       "    .dataframe tbody tr th {\n",
       "        vertical-align: top;\n",
       "    }\n",
       "\n",
       "    .dataframe thead th {\n",
       "        text-align: right;\n",
       "    }\n",
       "</style>\n",
       "<table border=\"1\" class=\"dataframe\">\n",
       "  <thead>\n",
       "    <tr style=\"text-align: right;\">\n",
       "      <th>Symbol</th>\n",
       "      <th>A</th>\n",
       "      <th>AAL</th>\n",
       "      <th>AAP</th>\n",
       "      <th>AAPL</th>\n",
       "      <th>ABBV</th>\n",
       "      <th>ABC</th>\n",
       "      <th>ABMD</th>\n",
       "      <th>ABT</th>\n",
       "      <th>ACN</th>\n",
       "      <th>ADBE</th>\n",
       "      <th>...</th>\n",
       "      <th>WYNN</th>\n",
       "      <th>XEL</th>\n",
       "      <th>XOM</th>\n",
       "      <th>XRAY</th>\n",
       "      <th>XYL</th>\n",
       "      <th>YUM</th>\n",
       "      <th>ZBH</th>\n",
       "      <th>ZBRA</th>\n",
       "      <th>ZION</th>\n",
       "      <th>ZTS</th>\n",
       "    </tr>\n",
       "    <tr>\n",
       "      <th>Date</th>\n",
       "      <th></th>\n",
       "      <th></th>\n",
       "      <th></th>\n",
       "      <th></th>\n",
       "      <th></th>\n",
       "      <th></th>\n",
       "      <th></th>\n",
       "      <th></th>\n",
       "      <th></th>\n",
       "      <th></th>\n",
       "      <th></th>\n",
       "      <th></th>\n",
       "      <th></th>\n",
       "      <th></th>\n",
       "      <th></th>\n",
       "      <th></th>\n",
       "      <th></th>\n",
       "      <th></th>\n",
       "      <th></th>\n",
       "      <th></th>\n",
       "      <th></th>\n",
       "    </tr>\n",
       "  </thead>\n",
       "  <tbody>\n",
       "    <tr>\n",
       "      <th>2015-01-05</th>\n",
       "      <td>37.420</td>\n",
       "      <td>51.051</td>\n",
       "      <td>151.337</td>\n",
       "      <td>24.120</td>\n",
       "      <td>46.711</td>\n",
       "      <td>79.662</td>\n",
       "      <td>37.07</td>\n",
       "      <td>39.125</td>\n",
       "      <td>76.427</td>\n",
       "      <td>71.98</td>\n",
       "      <td>...</td>\n",
       "      <td>127.431</td>\n",
       "      <td>29.178</td>\n",
       "      <td>64.219</td>\n",
       "      <td>49.260</td>\n",
       "      <td>32.530</td>\n",
       "      <td>44.445</td>\n",
       "      <td>107.126</td>\n",
       "      <td>76.34</td>\n",
       "      <td>24.042</td>\n",
       "      <td>41.036</td>\n",
       "    </tr>\n",
       "    <tr>\n",
       "      <th>2015-01-06</th>\n",
       "      <td>36.837</td>\n",
       "      <td>50.256</td>\n",
       "      <td>151.230</td>\n",
       "      <td>24.122</td>\n",
       "      <td>46.480</td>\n",
       "      <td>80.097</td>\n",
       "      <td>36.13</td>\n",
       "      <td>38.681</td>\n",
       "      <td>75.875</td>\n",
       "      <td>70.53</td>\n",
       "      <td>...</td>\n",
       "      <td>124.712</td>\n",
       "      <td>29.334</td>\n",
       "      <td>63.878</td>\n",
       "      <td>48.649</td>\n",
       "      <td>32.339</td>\n",
       "      <td>43.900</td>\n",
       "      <td>106.218</td>\n",
       "      <td>75.79</td>\n",
       "      <td>23.124</td>\n",
       "      <td>40.636</td>\n",
       "    </tr>\n",
       "  </tbody>\n",
       "</table>\n",
       "<p>2 rows × 487 columns</p>\n",
       "</div>"
      ],
      "text/plain": [
       "Symbol           A     AAL      AAP    AAPL    ABBV     ABC   ABMD     ABT     ACN   ADBE  ...  \\\n",
       "Date                                                                                       ...   \n",
       "2015-01-05  37.420  51.051  151.337  24.120  46.711  79.662  37.07  39.125  76.427  71.98  ...   \n",
       "2015-01-06  36.837  50.256  151.230  24.122  46.480  80.097  36.13  38.681  75.875  70.53  ...   \n",
       "\n",
       "Symbol         WYNN     XEL     XOM    XRAY     XYL     YUM      ZBH   ZBRA    ZION     ZTS  \n",
       "Date                                                                                         \n",
       "2015-01-05  127.431  29.178  64.219  49.260  32.530  44.445  107.126  76.34  24.042  41.036  \n",
       "2015-01-06  124.712  29.334  63.878  48.649  32.339  43.900  106.218  75.79  23.124  40.636  \n",
       "\n",
       "[2 rows x 487 columns]"
      ]
     },
     "execution_count": 18,
     "metadata": {},
     "output_type": "execute_result"
    },
    {
     "name": "stdout",
     "output_type": "stream",
     "text": [
      "time: 16 ms (started: 2022-10-16 10:04:56 +08:00)\n"
     ]
    }
   ],
   "source": [
    "# Fill the missing values with the last value available in the dataset. \n",
    "dataset=dataset.fillna(method='ffill')\n",
    "dataset.head(2)"
   ]
  },
  {
   "cell_type": "code",
   "execution_count": 19,
   "metadata": {
    "scrolled": true
   },
   "outputs": [
    {
     "name": "stdout",
     "output_type": "stream",
     "text": [
      "time: 15 ms (started: 2022-10-16 10:04:56 +08:00)\n"
     ]
    }
   ],
   "source": [
    "# To fill up any null values left over\n",
    "from sklearn.impute import SimpleImputer\n",
    "\n",
    "imp = SimpleImputer(strategy=\"mean\")\n",
    "dataset = pd.DataFrame(imp.fit_transform(dataset), columns=dataset.columns, index=dataset.index)"
   ]
  },
  {
   "cell_type": "code",
   "execution_count": 20,
   "metadata": {},
   "outputs": [
    {
     "name": "stdout",
     "output_type": "stream",
     "text": [
      "time: 16 ms (started: 2022-10-16 10:04:57 +08:00)\n"
     ]
    }
   ],
   "source": [
    "pickle.dump(dataset, open('./data/01_pricedate_2015_2019.pkl', 'wb'))"
   ]
  }
 ],
 "metadata": {
  "_change_revision": 206,
  "_is_fork": false,
  "kernelspec": {
   "display_name": "Python 3 (ipykernel)",
   "language": "python",
   "name": "python3"
  },
  "language_info": {
   "codemirror_mode": {
    "name": "ipython",
    "version": 3
   },
   "file_extension": ".py",
   "mimetype": "text/x-python",
   "name": "python",
   "nbconvert_exporter": "python",
   "pygments_lexer": "ipython3",
   "version": "3.9.7"
  }
 },
 "nbformat": 4,
 "nbformat_minor": 1
}
