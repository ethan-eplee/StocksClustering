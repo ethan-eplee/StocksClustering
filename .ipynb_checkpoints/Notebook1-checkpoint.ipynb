{
 "cells": [
  {
   "cell_type": "code",
   "execution_count": 1,
   "id": "f10e48ff",
   "metadata": {},
   "outputs": [],
   "source": [
    "# Load libraries\n",
    "import numpy as np\n",
    "import pandas as pd\n",
    "import pandas_datareader as dr\n",
    "from pandas import read_csv, set_option\n",
    "from pandas.plotting import scatter_matrix\n",
    "import matplotlib.pyplot as plt\n",
    "import seaborn as sns\n",
    "\n",
    "from sklearn.preprocessing import StandardScaler\n",
    "\n",
    "# Import Model Packages \n",
    "from sklearn.cluster import KMeans, AgglomerativeClustering,AffinityPropagation, DBSCAN\n",
    "from scipy.cluster.hierarchy import fcluster\n",
    "from scipy.cluster.hierarchy import dendrogram, linkage, cophenet\n",
    "from scipy.spatial.distance import pdist\n",
    "from sklearn.metrics import adjusted_mutual_info_score\n",
    "from sklearn import cluster, covariance, manifold\n",
    "\n",
    "# Other Helper Packages and functions\n",
    "import matplotlib.ticker as ticker\n",
    "from itertools import cycle\n",
    "\n",
    "import yahoo_fin.stock_info as si\n",
    "import yfinance as yf\n",
    "\n",
    "import datetime\n",
    "import warnings\n",
    "warnings.filterwarnings(\"ignore\")\n",
    "\n",
    "%matplotlib inline"
   ]
  },
  {
   "cell_type": "code",
   "execution_count": 22,
   "id": "e5480d59",
   "metadata": {
    "scrolled": true
   },
   "outputs": [],
   "source": [
    "# The dataset was obtained from Kaggle and imported\n",
    "df = read_csv('./data/stockprices.csv')"
   ]
  },
  {
   "cell_type": "code",
   "execution_count": 24,
   "id": "6b4e8530",
   "metadata": {},
   "outputs": [
    {
     "data": {
      "text/html": [
       "<div>\n",
       "<style scoped>\n",
       "    .dataframe tbody tr th:only-of-type {\n",
       "        vertical-align: middle;\n",
       "    }\n",
       "\n",
       "    .dataframe tbody tr th {\n",
       "        vertical-align: top;\n",
       "    }\n",
       "\n",
       "    .dataframe thead th {\n",
       "        text-align: right;\n",
       "    }\n",
       "</style>\n",
       "<table border=\"1\" class=\"dataframe\">\n",
       "  <thead>\n",
       "    <tr style=\"text-align: right;\">\n",
       "      <th></th>\n",
       "      <th>Date</th>\n",
       "      <th>Symbol</th>\n",
       "      <th>Adj Close</th>\n",
       "      <th>Close</th>\n",
       "      <th>High</th>\n",
       "      <th>Low</th>\n",
       "      <th>Open</th>\n",
       "      <th>Volume</th>\n",
       "    </tr>\n",
       "  </thead>\n",
       "  <tbody>\n",
       "    <tr>\n",
       "      <th>0</th>\n",
       "      <td>2010-01-04 00:00:00-05:00</td>\n",
       "      <td>MMM</td>\n",
       "      <td>59.318886</td>\n",
       "      <td>83.019997</td>\n",
       "      <td>83.449997</td>\n",
       "      <td>82.669998</td>\n",
       "      <td>83.089996</td>\n",
       "      <td>3043700.0</td>\n",
       "    </tr>\n",
       "    <tr>\n",
       "      <th>1</th>\n",
       "      <td>2010-01-05 00:00:00-05:00</td>\n",
       "      <td>MMM</td>\n",
       "      <td>58.947342</td>\n",
       "      <td>82.500000</td>\n",
       "      <td>83.230003</td>\n",
       "      <td>81.699997</td>\n",
       "      <td>82.800003</td>\n",
       "      <td>2847000.0</td>\n",
       "    </tr>\n",
       "    <tr>\n",
       "      <th>2</th>\n",
       "      <td>2010-01-06 00:00:00-05:00</td>\n",
       "      <td>MMM</td>\n",
       "      <td>59.783295</td>\n",
       "      <td>83.669998</td>\n",
       "      <td>84.599998</td>\n",
       "      <td>83.510002</td>\n",
       "      <td>83.879997</td>\n",
       "      <td>5268500.0</td>\n",
       "    </tr>\n",
       "    <tr>\n",
       "      <th>3</th>\n",
       "      <td>2010-01-07 00:00:00-05:00</td>\n",
       "      <td>MMM</td>\n",
       "      <td>59.826176</td>\n",
       "      <td>83.730003</td>\n",
       "      <td>83.760002</td>\n",
       "      <td>82.120003</td>\n",
       "      <td>83.320000</td>\n",
       "      <td>4470100.0</td>\n",
       "    </tr>\n",
       "    <tr>\n",
       "      <th>4</th>\n",
       "      <td>2010-01-08 00:00:00-05:00</td>\n",
       "      <td>MMM</td>\n",
       "      <td>60.247749</td>\n",
       "      <td>84.320000</td>\n",
       "      <td>84.320000</td>\n",
       "      <td>83.300003</td>\n",
       "      <td>83.690002</td>\n",
       "      <td>3405800.0</td>\n",
       "    </tr>\n",
       "  </tbody>\n",
       "</table>\n",
       "</div>"
      ],
      "text/plain": [
       "                        Date Symbol  Adj Close      Close       High  \\\n",
       "0  2010-01-04 00:00:00-05:00    MMM  59.318886  83.019997  83.449997   \n",
       "1  2010-01-05 00:00:00-05:00    MMM  58.947342  82.500000  83.230003   \n",
       "2  2010-01-06 00:00:00-05:00    MMM  59.783295  83.669998  84.599998   \n",
       "3  2010-01-07 00:00:00-05:00    MMM  59.826176  83.730003  83.760002   \n",
       "4  2010-01-08 00:00:00-05:00    MMM  60.247749  84.320000  84.320000   \n",
       "\n",
       "         Low       Open     Volume  \n",
       "0  82.669998  83.089996  3043700.0  \n",
       "1  81.699997  82.800003  2847000.0  \n",
       "2  83.510002  83.879997  5268500.0  \n",
       "3  82.120003  83.320000  4470100.0  \n",
       "4  83.300003  83.690002  3405800.0  "
      ]
     },
     "execution_count": 24,
     "metadata": {},
     "output_type": "execute_result"
    }
   ],
   "source": [
    "df.head()"
   ]
  },
  {
   "cell_type": "code",
   "execution_count": 23,
   "id": "9c1ff346",
   "metadata": {
    "scrolled": true
   },
   "outputs": [
    {
     "data": {
      "text/plain": [
       "1619660"
      ]
     },
     "execution_count": 23,
     "metadata": {},
     "output_type": "execute_result"
    }
   ],
   "source": [
    "len(df)"
   ]
  },
  {
   "cell_type": "markdown",
   "id": "a303df44",
   "metadata": {},
   "source": [
    "## Define Start and End Date"
   ]
  },
  {
   "cell_type": "code",
   "execution_count": 25,
   "id": "c40bdec0",
   "metadata": {
    "scrolled": true
   },
   "outputs": [],
   "source": [
    "# Define start date and end date for the data\n",
    "start_date = '2016-01-03'\n",
    "end_date = '2019-12-31'\n",
    "\n",
    "df_sp500 = df[(df.Date>=start_date) & (df.Date<=end_date)]"
   ]
  },
  {
   "cell_type": "code",
   "execution_count": 26,
   "id": "1a20a25b",
   "metadata": {},
   "outputs": [
    {
     "data": {
      "text/html": [
       "<div>\n",
       "<style scoped>\n",
       "    .dataframe tbody tr th:only-of-type {\n",
       "        vertical-align: middle;\n",
       "    }\n",
       "\n",
       "    .dataframe tbody tr th {\n",
       "        vertical-align: top;\n",
       "    }\n",
       "\n",
       "    .dataframe thead th {\n",
       "        text-align: right;\n",
       "    }\n",
       "</style>\n",
       "<table border=\"1\" class=\"dataframe\">\n",
       "  <thead>\n",
       "    <tr style=\"text-align: right;\">\n",
       "      <th></th>\n",
       "      <th>Adj Close</th>\n",
       "      <th>Close</th>\n",
       "      <th>High</th>\n",
       "      <th>Low</th>\n",
       "      <th>Open</th>\n",
       "      <th>Volume</th>\n",
       "    </tr>\n",
       "  </thead>\n",
       "  <tbody>\n",
       "    <tr>\n",
       "      <th>count</th>\n",
       "      <td>495242.000000</td>\n",
       "      <td>495242.000000</td>\n",
       "      <td>495242.000000</td>\n",
       "      <td>495242.000000</td>\n",
       "      <td>495242.000000</td>\n",
       "      <td>4.952420e+05</td>\n",
       "    </tr>\n",
       "    <tr>\n",
       "      <th>mean</th>\n",
       "      <td>96.619521</td>\n",
       "      <td>102.483144</td>\n",
       "      <td>103.461797</td>\n",
       "      <td>101.440198</td>\n",
       "      <td>102.463467</td>\n",
       "      <td>4.898221e+06</td>\n",
       "    </tr>\n",
       "    <tr>\n",
       "      <th>std</th>\n",
       "      <td>159.954705</td>\n",
       "      <td>160.412801</td>\n",
       "      <td>162.142631</td>\n",
       "      <td>158.604534</td>\n",
       "      <td>160.343233</td>\n",
       "      <td>1.249021e+07</td>\n",
       "    </tr>\n",
       "    <tr>\n",
       "      <th>min</th>\n",
       "      <td>0.700000</td>\n",
       "      <td>0.700000</td>\n",
       "      <td>0.710000</td>\n",
       "      <td>0.650000</td>\n",
       "      <td>0.700000</td>\n",
       "      <td>0.000000e+00</td>\n",
       "    </tr>\n",
       "    <tr>\n",
       "      <th>25%</th>\n",
       "      <td>40.326423</td>\n",
       "      <td>44.320800</td>\n",
       "      <td>44.779999</td>\n",
       "      <td>43.860001</td>\n",
       "      <td>44.320000</td>\n",
       "      <td>9.726000e+05</td>\n",
       "    </tr>\n",
       "    <tr>\n",
       "      <th>50%</th>\n",
       "      <td>65.812489</td>\n",
       "      <td>72.839996</td>\n",
       "      <td>73.489998</td>\n",
       "      <td>72.133331</td>\n",
       "      <td>72.824356</td>\n",
       "      <td>1.990700e+06</td>\n",
       "    </tr>\n",
       "    <tr>\n",
       "      <th>75%</th>\n",
       "      <td>110.881840</td>\n",
       "      <td>118.400002</td>\n",
       "      <td>119.419998</td>\n",
       "      <td>117.300003</td>\n",
       "      <td>118.379997</td>\n",
       "      <td>4.376375e+06</td>\n",
       "    </tr>\n",
       "    <tr>\n",
       "      <th>max</th>\n",
       "      <td>3892.889893</td>\n",
       "      <td>3892.889893</td>\n",
       "      <td>3946.500000</td>\n",
       "      <td>3815.500000</td>\n",
       "      <td>3900.000000</td>\n",
       "      <td>5.334788e+08</td>\n",
       "    </tr>\n",
       "  </tbody>\n",
       "</table>\n",
       "</div>"
      ],
      "text/plain": [
       "           Adj Close          Close           High            Low  \\\n",
       "count  495242.000000  495242.000000  495242.000000  495242.000000   \n",
       "mean       96.619521     102.483144     103.461797     101.440198   \n",
       "std       159.954705     160.412801     162.142631     158.604534   \n",
       "min         0.700000       0.700000       0.710000       0.650000   \n",
       "25%        40.326423      44.320800      44.779999      43.860001   \n",
       "50%        65.812489      72.839996      73.489998      72.133331   \n",
       "75%       110.881840     118.400002     119.419998     117.300003   \n",
       "max      3892.889893    3892.889893    3946.500000    3815.500000   \n",
       "\n",
       "                Open        Volume  \n",
       "count  495242.000000  4.952420e+05  \n",
       "mean      102.463467  4.898221e+06  \n",
       "std       160.343233  1.249021e+07  \n",
       "min         0.700000  0.000000e+00  \n",
       "25%        44.320000  9.726000e+05  \n",
       "50%        72.824356  1.990700e+06  \n",
       "75%       118.379997  4.376375e+06  \n",
       "max      3900.000000  5.334788e+08  "
      ]
     },
     "execution_count": 26,
     "metadata": {},
     "output_type": "execute_result"
    }
   ],
   "source": [
    "df_sp500.describe()"
   ]
  },
  {
   "cell_type": "code",
   "execution_count": 29,
   "id": "c2208378",
   "metadata": {},
   "outputs": [
    {
     "name": "stdout",
     "output_type": "stream",
     "text": [
      "Null Values = Date         False\n",
      "Symbol       False\n",
      "Adj Close     True\n",
      "Close         True\n",
      "High          True\n",
      "Low           True\n",
      "Open          True\n",
      "Volume        True\n",
      "dtype: bool\n"
     ]
    }
   ],
   "source": [
    "#Checking for any null values and removing the null values'''\n",
    "print('Null Values =', df_sp500.isnull().any())"
   ]
  },
  {
   "cell_type": "code",
   "execution_count": 28,
   "id": "c376eebd",
   "metadata": {},
   "outputs": [
    {
     "data": {
      "text/plain": [
       "Date             0\n",
       "Symbol           0\n",
       "Adj Close    12285\n",
       "Close        12285\n",
       "High         12285\n",
       "Low          12285\n",
       "Open         12285\n",
       "Volume       12285\n",
       "dtype: int64"
      ]
     },
     "execution_count": 28,
     "metadata": {},
     "output_type": "execute_result"
    }
   ],
   "source": [
    "df_sp500.isnull().sum()"
   ]
  },
  {
   "cell_type": "code",
   "execution_count": null,
   "id": "ceed7de7",
   "metadata": {},
   "outputs": [],
   "source": [
    "ddf"
   ]
  }
 ],
 "metadata": {
  "kernelspec": {
   "display_name": "Python 3 (ipykernel)",
   "language": "python",
   "name": "python3"
  },
  "language_info": {
   "codemirror_mode": {
    "name": "ipython",
    "version": 3
   },
   "file_extension": ".py",
   "mimetype": "text/x-python",
   "name": "python",
   "nbconvert_exporter": "python",
   "pygments_lexer": "ipython3",
   "version": "3.9.7"
  }
 },
 "nbformat": 4,
 "nbformat_minor": 5
}
